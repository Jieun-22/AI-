{
  "nbformat": 4,
  "nbformat_minor": 0,
  "metadata": {
    "colab": {
      "name": "AI-220513.ipynb",
      "provenance": [],
      "collapsed_sections": []
    },
    "kernelspec": {
      "name": "python3",
      "display_name": "Python 3"
    },
    "language_info": {
      "name": "python"
    }
  },
  "cells": [
    {
      "cell_type": "markdown",
      "source": [
        "## 정적 웹 페이지 크롤링"
      ],
      "metadata": {
        "id": "NbQVpS2bkTgP"
      }
    },
    {
      "cell_type": "code",
      "execution_count": 10,
      "metadata": {
        "id": "n1j7f3Ajcj97"
      },
      "outputs": [],
      "source": [
        "from bs4 import BeautifulSoup\n",
        "import urllib.request\n",
        "\n",
        "result = []"
      ]
    },
    {
      "cell_type": "code",
      "source": [
        "for page in range(1,58):\n",
        "  Hollys_url = 'https://www.hollys.co.kr/store/korea/korStore.do?pageNo=%d&sido=&gugun=&store=' %page\n",
        "  html = urllib.request.urlopen(Hollys_url)\n",
        "  soupHollys = BeautifulSoup(html, 'html.parser')\n",
        "  tag_tbody = soupHollys.find('tbody')\n",
        "  for store in tag_tbody.find_all('tr'):\n",
        "    if len(store) <= 3:\n",
        "      break\n",
        "    store_td = store.find_all('td')\n",
        "    store_name = store_td[1].string\n",
        "    store_sido = store_td[0].string\n",
        "    store_address = store_td[3].string\n",
        "    store_phone = store_td[5].string\n",
        "    result.append([store_name] + [store_sido] + [store_address] + [store_phone])\n"
      ],
      "metadata": {
        "id": "AOf9ljr0kcHJ"
      },
      "execution_count": 11,
      "outputs": []
    },
    {
      "cell_type": "code",
      "source": [
        "len(result)"
      ],
      "metadata": {
        "colab": {
          "base_uri": "https://localhost:8080/"
        },
        "id": "vM7qi1PwkiM7",
        "outputId": "f1488ddf-fa09-489f-f80e-109f32729909"
      },
      "execution_count": 12,
      "outputs": [
        {
          "output_type": "execute_result",
          "data": {
            "text/plain": [
              "567"
            ]
          },
          "metadata": {},
          "execution_count": 12
        }
      ]
    },
    {
      "cell_type": "code",
      "source": [
        "import pandas as pd\n",
        "\n",
        "hollys_tbl = pd.DataFrame(result, columns = ('store', 'sido-gu','address','phone'))\n",
        "hollys_tbl.to_csv(\"hollys.csv\", encoding = \"cp949\", mode = \"w\", index = True)"
      ],
      "metadata": {
        "id": "tUh4cMAdpn7d"
      },
      "execution_count": 13,
      "outputs": []
    },
    {
      "cell_type": "markdown",
      "source": [
        "## 동적 웹 페이지 크롤링 \n",
        "Selenium 라이브러리"
      ],
      "metadata": {
        "id": "w2tbzye0q3Q4"
      }
    },
    {
      "cell_type": "code",
      "source": [
        "!pip install selenium\n",
        "!apt-get update\n",
        "!apt install chromium-chromedriver"
      ],
      "metadata": {
        "id": "AaWHJjDbqX0K"
      },
      "execution_count": null,
      "outputs": []
    },
    {
      "cell_type": "code",
      "source": [
        "from bs4 import BeautifulSoup\n",
        "from selenium import webdriver\n",
        "import time\n",
        "import urllib.request\n",
        "import pandas as pd\n",
        "import datetime\n",
        "\n",
        "\n",
        "\n",
        "CoffeeBean_URL = \"https://www.coffeebeankorea.com/store/store.asp\"    \n",
        "options = webdriver.ChromeOptions()\n",
        "options.add_argument('--headless')        # Head-less 설정\n",
        "options.add_argument('--no-sandbox')\n",
        "options.add_argument('--disable-dev-shm-usage')\n",
        "wd = webdriver.Chrome('chromedriver',options=options)\n",
        "\n",
        "  \n",
        "wd.get(CoffeeBean_URL)\n",
        "time.sleep(1) # 웹페이지 연결할 동안 1초 대기\n",
        "wd.execute_script('storePop2(1)')\n",
        "time.sleep(1)\n",
        "html = wd.page_source\n",
        "      \n",
        "soupCB = BeautifulSoup(html, 'html.parser')\n",
        "store_name_h2 = soupCB.select('div.store_txt > h2')\n",
        "store_name = store_name_h2[0].string\n",
        "print(store_name)"
      ],
      "metadata": {
        "colab": {
          "base_uri": "https://localhost:8080/"
        },
        "id": "uzVAYVbqffsN",
        "outputId": "d00b4f72-d799-447d-889e-3e3c4b7cc0a8"
      },
      "execution_count": 12,
      "outputs": [
        {
          "output_type": "stream",
          "name": "stdout",
          "text": [
            "학동역 DT점\n"
          ]
        }
      ]
    },
    {
      "cell_type": "code",
      "source": [
        "store_info = soupCB.select(\"div.store_txt > table.store_table > tbody > tr > td\")\n",
        "print(store_info)"
      ],
      "metadata": {
        "colab": {
          "base_uri": "https://localhost:8080/"
        },
        "id": "YMa2zjaNjXGF",
        "outputId": "a8698d38-40b6-459b-86ad-5fb7ff10cea1"
      },
      "execution_count": 14,
      "outputs": [
        {
          "output_type": "stream",
          "name": "stdout",
          "text": [
            "[<td>평일 06:30~22:00ㅣ주말/공휴일 07:30~22:00</td>, <td>DT(드라이브 스루) 매장입니다. (주차는 불가)</td>, <td>서울시 강남구 학동로 211 1층  <!--span class=\"lot\">(서울시 강남구 학동로 211 1층)</span--></td>, <td>02-3444-9973</td>]\n"
          ]
        }
      ]
    },
    {
      "cell_type": "code",
      "source": [
        "store_phone = store_info[3].string\n",
        "store_phone "
      ],
      "metadata": {
        "colab": {
          "base_uri": "https://localhost:8080/",
          "height": 35
        },
        "id": "f_2RlBWfn3V0",
        "outputId": "38fb845c-d7a0-4d86-db37-f55bb5921d9b"
      },
      "execution_count": 15,
      "outputs": [
        {
          "output_type": "execute_result",
          "data": {
            "text/plain": [
              "'02-3444-9973'"
            ],
            "application/vnd.google.colaboratory.intrinsic+json": {
              "type": "string"
            }
          },
          "metadata": {},
          "execution_count": 15
        }
      ]
    },
    {
      "cell_type": "code",
      "source": [
        "from bs4 import BeautifulSoup\n",
        "from selenium import webdriver\n",
        "import time\n",
        "import urllib.request\n",
        "import pandas as pd\n",
        "import datetime\n",
        "\n",
        "#[CODE 1]\n",
        "def CoffeeBean_store(result):\n",
        "    CoffeeBean_URL = \"https://www.coffeebeankorea.com/store/store.asp\"    \n",
        "    options = webdriver.ChromeOptions()\n",
        "    options.add_argument('--headless')        # Head-less 설정\n",
        "    options.add_argument('--no-sandbox')\n",
        "    options.add_argument('--disable-dev-shm-usage')\n",
        "    wd = webdriver.Chrome('chromedriver',options=options)\n",
        "             \n",
        "    for i in range(1, 370):  #매장 수 만큼 반복\n",
        "        wd.get(CoffeeBean_URL)\n",
        "        time.sleep(1)  #웹페이지 연결할 동안 1초 대기\n",
        "        try:\n",
        "            wd.execute_script(\"storePop2(%d)\" %i)\n",
        "            time.sleep(1) #스크립트 실행 할 동안 1초 대기\n",
        "            html = wd.page_source\n",
        "            soupCB = BeautifulSoup(html, 'html.parser')\n",
        "            store_name_h2 = soupCB.select(\"div.store_txt > h2\")\n",
        "            store_name = store_name_h2[0].string\n",
        "            print(store_name)  #매장 이름 출력하기\n",
        "            store_info = soupCB.select(\"div.store_txt > table.store_table > tbody > tr > td\")\n",
        "            store_address_list = list(store_info[2])\n",
        "            store_address = store_address_list[0]\n",
        "            store_phone = store_info[3].string\n",
        "            result.append([store_name]+[store_address]+[store_phone])\n",
        "        except:\n",
        "            continue \n",
        "    return\n",
        "\n",
        "#[CODE 0]\n",
        "def main():\n",
        "    result = []\n",
        "    print('CoffeeBean store crawling >>>>>>>>>>>>>>>>>>>>>>>>>>')\n",
        "    CoffeeBean_store(result)  #[CODE 1]\n",
        "    \n",
        "    CB_tbl = pd.DataFrame(result, columns=('store', 'address','phone'))\n",
        "    CB_tbl.to_csv('CoffeeBean.csv', encoding='cp949', mode='w', index=True)\n",
        "\n",
        "if __name__ == '__main__':\n",
        "     main()"
      ],
      "metadata": {
        "id": "ZSH9zMBJpuC8"
      },
      "execution_count": null,
      "outputs": []
    },
    {
      "cell_type": "code",
      "source": [
        ""
      ],
      "metadata": {
        "id": "ayJf-T4FwCkk"
      },
      "execution_count": null,
      "outputs": []
    }
  ]
}