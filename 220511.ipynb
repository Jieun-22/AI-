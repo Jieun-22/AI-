{
  "nbformat": 4,
  "nbformat_minor": 0,
  "metadata": {
    "colab": {
      "name": "AI-220511.ipynb",
      "provenance": []
    },
    "kernelspec": {
      "name": "python3",
      "display_name": "Python 3"
    },
    "language_info": {
      "name": "python"
    }
  },
  "cells": [
    {
      "cell_type": "markdown",
      "source": [
        "## 공공데이터 API 기반 크롤링 "
      ],
      "metadata": {
        "id": "L6QQhNvj0jQb"
      }
    },
    {
      "cell_type": "code",
      "source": [
        "!sudo apt-get install -y fonts-nanum\n",
        "!sudo fc-cache -fv\n",
        "!rm ~/.cache/matplotlib -rf"
      ],
      "metadata": {
        "colab": {
          "base_uri": "https://localhost:8080/"
        },
        "id": "GaGjYWcg9WPe",
        "outputId": "18941cad-43f2-4d5e-bad6-e884acd403b7"
      },
      "execution_count": 2,
      "outputs": [
        {
          "output_type": "stream",
          "name": "stdout",
          "text": [
            "Reading package lists... Done\n",
            "Building dependency tree       \n",
            "Reading state information... Done\n",
            "The following package was automatically installed and is no longer required:\n",
            "  libnvidia-common-460\n",
            "Use 'sudo apt autoremove' to remove it.\n",
            "The following NEW packages will be installed:\n",
            "  fonts-nanum\n",
            "0 upgraded, 1 newly installed, 0 to remove and 42 not upgraded.\n",
            "Need to get 9,604 kB of archives.\n",
            "After this operation, 29.5 MB of additional disk space will be used.\n",
            "Get:1 http://archive.ubuntu.com/ubuntu bionic/universe amd64 fonts-nanum all 20170925-1 [9,604 kB]\n",
            "Fetched 9,604 kB in 2s (4,103 kB/s)\n",
            "debconf: unable to initialize frontend: Dialog\n",
            "debconf: (No usable dialog-like program is installed, so the dialog based frontend cannot be used. at /usr/share/perl5/Debconf/FrontEnd/Dialog.pm line 76, <> line 1.)\n",
            "debconf: falling back to frontend: Readline\n",
            "debconf: unable to initialize frontend: Readline\n",
            "debconf: (This frontend requires a controlling tty.)\n",
            "debconf: falling back to frontend: Teletype\n",
            "dpkg-preconfigure: unable to re-open stdin: \n",
            "Selecting previously unselected package fonts-nanum.\n",
            "(Reading database ... 155629 files and directories currently installed.)\n",
            "Preparing to unpack .../fonts-nanum_20170925-1_all.deb ...\n",
            "Unpacking fonts-nanum (20170925-1) ...\n",
            "Setting up fonts-nanum (20170925-1) ...\n",
            "Processing triggers for fontconfig (2.12.6-0ubuntu2) ...\n",
            "/usr/share/fonts: caching, new cache contents: 0 fonts, 1 dirs\n",
            "/usr/share/fonts/truetype: caching, new cache contents: 0 fonts, 3 dirs\n",
            "/usr/share/fonts/truetype/humor-sans: caching, new cache contents: 1 fonts, 0 dirs\n",
            "/usr/share/fonts/truetype/liberation: caching, new cache contents: 16 fonts, 0 dirs\n",
            "/usr/share/fonts/truetype/nanum: caching, new cache contents: 10 fonts, 0 dirs\n",
            "/usr/local/share/fonts: caching, new cache contents: 0 fonts, 0 dirs\n",
            "/root/.local/share/fonts: skipping, no such directory\n",
            "/root/.fonts: skipping, no such directory\n",
            "/var/cache/fontconfig: cleaning cache directory\n",
            "/root/.cache/fontconfig: not cleaning non-existent cache directory\n",
            "/root/.fontconfig: not cleaning non-existent cache directory\n",
            "fc-cache: succeeded\n"
          ]
        }
      ]
    },
    {
      "cell_type": "code",
      "execution_count": 2,
      "metadata": {
        "id": "9Lhqi6KVxIQ8",
        "colab": {
          "base_uri": "https://localhost:8080/"
        },
        "outputId": "6bcac62a-3ac3-465b-fe53-f6e0c3ec3f1b"
      },
      "outputs": [
        {
          "output_type": "stream",
          "name": "stdout",
          "text": [
            "<< 국내 입국한 외국인의 통계 데이터를 수집합니다. >>\n",
            "국가 코드를 입력하세요(중국: 112 / 일본: 130 / 미국: 275) : 275\n",
            "데이터를 몇 년부터 수집할까요? : 2020\n",
            "데이터를 몇 년까지 수집할까요? : 2021\n",
            "[2022-05-22 13:34:32.121230] Url Request Success\n",
            "{\n",
            "    \"response\": {\n",
            "        \"body\": {\n",
            "            \"items\": {\n",
            "                \"item\": {\n",
            "                    \"ed\": \"방한외래관광객\",\n",
            "                    \"edCd\": \"E\",\n",
            "                    \"natCd\": 275,\n",
            "                    \"natKorNm\": \"미  국\",\n",
            "                    \"num\": 67255,\n",
            "                    \"rnum\": 1,\n",
            "                    \"ym\": 202001\n",
            "                }\n",
            "            },\n",
            "            \"numOfRows\": 10,\n",
            "            \"pageNo\": 1,\n",
            "            \"totalCount\": 1\n",
            "        },\n",
            "        \"header\": {\n",
            "            \"resultCode\": \"0000\",\n",
            "            \"resultMsg\": \"OK\"\n",
            "        }\n",
            "    }\n",
            "}\n",
            "[ 미국_202001 : 67255 ]\n",
            "----------------------------------------------------------------------\n",
            "[2022-05-22 13:34:32.277356] Url Request Success\n",
            "{\n",
            "    \"response\": {\n",
            "        \"body\": {\n",
            "            \"items\": {\n",
            "                \"item\": {\n",
            "                    \"ed\": \"방한외래관광객\",\n",
            "                    \"edCd\": \"E\",\n",
            "                    \"natCd\": 275,\n",
            "                    \"natKorNm\": \"미  국\",\n",
            "                    \"num\": 42439,\n",
            "                    \"rnum\": 1,\n",
            "                    \"ym\": 202002\n",
            "                }\n",
            "            },\n",
            "            \"numOfRows\": 10,\n",
            "            \"pageNo\": 1,\n",
            "            \"totalCount\": 1\n",
            "        },\n",
            "        \"header\": {\n",
            "            \"resultCode\": \"0000\",\n",
            "            \"resultMsg\": \"OK\"\n",
            "        }\n",
            "    }\n",
            "}\n",
            "[ 미국_202002 : 42439 ]\n",
            "----------------------------------------------------------------------\n",
            "[2022-05-22 13:34:32.427932] Url Request Success\n",
            "{\n",
            "    \"response\": {\n",
            "        \"body\": {\n",
            "            \"items\": {\n",
            "                \"item\": {\n",
            "                    \"ed\": \"방한외래관광객\",\n",
            "                    \"edCd\": \"E\",\n",
            "                    \"natCd\": 275,\n",
            "                    \"natKorNm\": \"미  국\",\n",
            "                    \"num\": 10570,\n",
            "                    \"rnum\": 1,\n",
            "                    \"ym\": 202003\n",
            "                }\n",
            "            },\n",
            "            \"numOfRows\": 10,\n",
            "            \"pageNo\": 1,\n",
            "            \"totalCount\": 1\n",
            "        },\n",
            "        \"header\": {\n",
            "            \"resultCode\": \"0000\",\n",
            "            \"resultMsg\": \"OK\"\n",
            "        }\n",
            "    }\n",
            "}\n",
            "[ 미국_202003 : 10570 ]\n",
            "----------------------------------------------------------------------\n",
            "[2022-05-22 13:34:32.585170] Url Request Success\n",
            "{\n",
            "    \"response\": {\n",
            "        \"body\": {\n",
            "            \"items\": {\n",
            "                \"item\": {\n",
            "                    \"ed\": \"방한외래관광객\",\n",
            "                    \"edCd\": \"E\",\n",
            "                    \"natCd\": 275,\n",
            "                    \"natKorNm\": \"미  국\",\n",
            "                    \"num\": 6417,\n",
            "                    \"rnum\": 1,\n",
            "                    \"ym\": 202004\n",
            "                }\n",
            "            },\n",
            "            \"numOfRows\": 10,\n",
            "            \"pageNo\": 1,\n",
            "            \"totalCount\": 1\n",
            "        },\n",
            "        \"header\": {\n",
            "            \"resultCode\": \"0000\",\n",
            "            \"resultMsg\": \"OK\"\n",
            "        }\n",
            "    }\n",
            "}\n",
            "[ 미국_202004 : 6417 ]\n",
            "----------------------------------------------------------------------\n",
            "[2022-05-22 13:34:32.740502] Url Request Success\n",
            "{\n",
            "    \"response\": {\n",
            "        \"body\": {\n",
            "            \"items\": {\n",
            "                \"item\": {\n",
            "                    \"ed\": \"방한외래관광객\",\n",
            "                    \"edCd\": \"E\",\n",
            "                    \"natCd\": 275,\n",
            "                    \"natKorNm\": \"미  국\",\n",
            "                    \"num\": 8735,\n",
            "                    \"rnum\": 1,\n",
            "                    \"ym\": 202005\n",
            "                }\n",
            "            },\n",
            "            \"numOfRows\": 10,\n",
            "            \"pageNo\": 1,\n",
            "            \"totalCount\": 1\n",
            "        },\n",
            "        \"header\": {\n",
            "            \"resultCode\": \"0000\",\n",
            "            \"resultMsg\": \"OK\"\n",
            "        }\n",
            "    }\n",
            "}\n",
            "[ 미국_202005 : 8735 ]\n",
            "----------------------------------------------------------------------\n",
            "[2022-05-22 13:34:32.890620] Url Request Success\n",
            "{\n",
            "    \"response\": {\n",
            "        \"body\": {\n",
            "            \"items\": {\n",
            "                \"item\": {\n",
            "                    \"ed\": \"방한외래관광객\",\n",
            "                    \"edCd\": \"E\",\n",
            "                    \"natCd\": 275,\n",
            "                    \"natKorNm\": \"미  국\",\n",
            "                    \"num\": 9717,\n",
            "                    \"rnum\": 1,\n",
            "                    \"ym\": 202006\n",
            "                }\n",
            "            },\n",
            "            \"numOfRows\": 10,\n",
            "            \"pageNo\": 1,\n",
            "            \"totalCount\": 1\n",
            "        },\n",
            "        \"header\": {\n",
            "            \"resultCode\": \"0000\",\n",
            "            \"resultMsg\": \"OK\"\n",
            "        }\n",
            "    }\n",
            "}\n",
            "[ 미국_202006 : 9717 ]\n",
            "----------------------------------------------------------------------\n",
            "[2022-05-22 13:34:33.038457] Url Request Success\n",
            "{\n",
            "    \"response\": {\n",
            "        \"body\": {\n",
            "            \"items\": {\n",
            "                \"item\": {\n",
            "                    \"ed\": \"방한외래관광객\",\n",
            "                    \"edCd\": \"E\",\n",
            "                    \"natCd\": 275,\n",
            "                    \"natKorNm\": \"미  국\",\n",
            "                    \"num\": 11922,\n",
            "                    \"rnum\": 1,\n",
            "                    \"ym\": 202007\n",
            "                }\n",
            "            },\n",
            "            \"numOfRows\": 10,\n",
            "            \"pageNo\": 1,\n",
            "            \"totalCount\": 1\n",
            "        },\n",
            "        \"header\": {\n",
            "            \"resultCode\": \"0000\",\n",
            "            \"resultMsg\": \"OK\"\n",
            "        }\n",
            "    }\n",
            "}\n",
            "[ 미국_202007 : 11922 ]\n",
            "----------------------------------------------------------------------\n",
            "[2022-05-22 13:34:33.190146] Url Request Success\n",
            "{\n",
            "    \"response\": {\n",
            "        \"body\": {\n",
            "            \"items\": {\n",
            "                \"item\": {\n",
            "                    \"ed\": \"방한외래관광객\",\n",
            "                    \"edCd\": \"E\",\n",
            "                    \"natCd\": 275,\n",
            "                    \"natKorNm\": \"미  국\",\n",
            "                    \"num\": 13368,\n",
            "                    \"rnum\": 1,\n",
            "                    \"ym\": 202008\n",
            "                }\n",
            "            },\n",
            "            \"numOfRows\": 10,\n",
            "            \"pageNo\": 1,\n",
            "            \"totalCount\": 1\n",
            "        },\n",
            "        \"header\": {\n",
            "            \"resultCode\": \"0000\",\n",
            "            \"resultMsg\": \"OK\"\n",
            "        }\n",
            "    }\n",
            "}\n",
            "[ 미국_202008 : 13368 ]\n",
            "----------------------------------------------------------------------\n",
            "[2022-05-22 13:34:33.345294] Url Request Success\n",
            "{\n",
            "    \"response\": {\n",
            "        \"body\": {\n",
            "            \"items\": {\n",
            "                \"item\": {\n",
            "                    \"ed\": \"방한외래관광객\",\n",
            "                    \"edCd\": \"E\",\n",
            "                    \"natCd\": 275,\n",
            "                    \"natKorNm\": \"미  국\",\n",
            "                    \"num\": 12426,\n",
            "                    \"rnum\": 1,\n",
            "                    \"ym\": 202009\n",
            "                }\n",
            "            },\n",
            "            \"numOfRows\": 10,\n",
            "            \"pageNo\": 1,\n",
            "            \"totalCount\": 1\n",
            "        },\n",
            "        \"header\": {\n",
            "            \"resultCode\": \"0000\",\n",
            "            \"resultMsg\": \"OK\"\n",
            "        }\n",
            "    }\n",
            "}\n",
            "[ 미국_202009 : 12426 ]\n",
            "----------------------------------------------------------------------\n",
            "[2022-05-22 13:34:33.497361] Url Request Success\n",
            "{\n",
            "    \"response\": {\n",
            "        \"body\": {\n",
            "            \"items\": {\n",
            "                \"item\": {\n",
            "                    \"ed\": \"방한외래관광객\",\n",
            "                    \"edCd\": \"E\",\n",
            "                    \"natCd\": 275,\n",
            "                    \"natKorNm\": \"미  국\",\n",
            "                    \"num\": 12366,\n",
            "                    \"rnum\": 1,\n",
            "                    \"ym\": 202010\n",
            "                }\n",
            "            },\n",
            "            \"numOfRows\": 10,\n",
            "            \"pageNo\": 1,\n",
            "            \"totalCount\": 1\n",
            "        },\n",
            "        \"header\": {\n",
            "            \"resultCode\": \"0000\",\n",
            "            \"resultMsg\": \"OK\"\n",
            "        }\n",
            "    }\n",
            "}\n",
            "[ 미국_202010 : 12366 ]\n",
            "----------------------------------------------------------------------\n",
            "[2022-05-22 13:34:33.650890] Url Request Success\n",
            "{\n",
            "    \"response\": {\n",
            "        \"body\": {\n",
            "            \"items\": {\n",
            "                \"item\": {\n",
            "                    \"ed\": \"방한외래관광객\",\n",
            "                    \"edCd\": \"E\",\n",
            "                    \"natCd\": 275,\n",
            "                    \"natKorNm\": \"미  국\",\n",
            "                    \"num\": 13100,\n",
            "                    \"rnum\": 1,\n",
            "                    \"ym\": 202011\n",
            "                }\n",
            "            },\n",
            "            \"numOfRows\": 10,\n",
            "            \"pageNo\": 1,\n",
            "            \"totalCount\": 1\n",
            "        },\n",
            "        \"header\": {\n",
            "            \"resultCode\": \"0000\",\n",
            "            \"resultMsg\": \"OK\"\n",
            "        }\n",
            "    }\n",
            "}\n",
            "[ 미국_202011 : 13100 ]\n",
            "----------------------------------------------------------------------\n",
            "[2022-05-22 13:34:33.805889] Url Request Success\n",
            "{\n",
            "    \"response\": {\n",
            "        \"body\": {\n",
            "            \"items\": {\n",
            "                \"item\": {\n",
            "                    \"ed\": \"방한외래관광객\",\n",
            "                    \"edCd\": \"E\",\n",
            "                    \"natCd\": 275,\n",
            "                    \"natKorNm\": \"미  국\",\n",
            "                    \"num\": 12102,\n",
            "                    \"rnum\": 1,\n",
            "                    \"ym\": 202012\n",
            "                }\n",
            "            },\n",
            "            \"numOfRows\": 10,\n",
            "            \"pageNo\": 1,\n",
            "            \"totalCount\": 1\n",
            "        },\n",
            "        \"header\": {\n",
            "            \"resultCode\": \"0000\",\n",
            "            \"resultMsg\": \"OK\"\n",
            "        }\n",
            "    }\n",
            "}\n",
            "[ 미국_202012 : 12102 ]\n",
            "----------------------------------------------------------------------\n",
            "[2022-05-22 13:34:33.958531] Url Request Success\n",
            "{\n",
            "    \"response\": {\n",
            "        \"body\": {\n",
            "            \"items\": {\n",
            "                \"item\": {\n",
            "                    \"ed\": \"방한외래관광객\",\n",
            "                    \"edCd\": \"E\",\n",
            "                    \"natCd\": 275,\n",
            "                    \"natKorNm\": \"미  국\",\n",
            "                    \"num\": 12013,\n",
            "                    \"rnum\": 1,\n",
            "                    \"ym\": 202101\n",
            "                }\n",
            "            },\n",
            "            \"numOfRows\": 10,\n",
            "            \"pageNo\": 1,\n",
            "            \"totalCount\": 1\n",
            "        },\n",
            "        \"header\": {\n",
            "            \"resultCode\": \"0000\",\n",
            "            \"resultMsg\": \"OK\"\n",
            "        }\n",
            "    }\n",
            "}\n",
            "[ 미국_202101 : 12013 ]\n",
            "----------------------------------------------------------------------\n",
            "[2022-05-22 13:34:34.105616] Url Request Success\n",
            "{\n",
            "    \"response\": {\n",
            "        \"body\": {\n",
            "            \"items\": {\n",
            "                \"item\": {\n",
            "                    \"ed\": \"방한외래관광객\",\n",
            "                    \"edCd\": \"E\",\n",
            "                    \"natCd\": 275,\n",
            "                    \"natKorNm\": \"미  국\",\n",
            "                    \"num\": 11212,\n",
            "                    \"rnum\": 1,\n",
            "                    \"ym\": 202102\n",
            "                }\n",
            "            },\n",
            "            \"numOfRows\": 10,\n",
            "            \"pageNo\": 1,\n",
            "            \"totalCount\": 1\n",
            "        },\n",
            "        \"header\": {\n",
            "            \"resultCode\": \"0000\",\n",
            "            \"resultMsg\": \"OK\"\n",
            "        }\n",
            "    }\n",
            "}\n",
            "[ 미국_202102 : 11212 ]\n",
            "----------------------------------------------------------------------\n",
            "[2022-05-22 13:34:34.256060] Url Request Success\n",
            "{\n",
            "    \"response\": {\n",
            "        \"body\": {\n",
            "            \"items\": {\n",
            "                \"item\": {\n",
            "                    \"ed\": \"방한외래관광객\",\n",
            "                    \"edCd\": \"E\",\n",
            "                    \"natCd\": 275,\n",
            "                    \"natKorNm\": \"미  국\",\n",
            "                    \"num\": 12321,\n",
            "                    \"rnum\": 1,\n",
            "                    \"ym\": 202103\n",
            "                }\n",
            "            },\n",
            "            \"numOfRows\": 10,\n",
            "            \"pageNo\": 1,\n",
            "            \"totalCount\": 1\n",
            "        },\n",
            "        \"header\": {\n",
            "            \"resultCode\": \"0000\",\n",
            "            \"resultMsg\": \"OK\"\n",
            "        }\n",
            "    }\n",
            "}\n",
            "[ 미국_202103 : 12321 ]\n",
            "----------------------------------------------------------------------\n",
            "[2022-05-22 13:34:34.406795] Url Request Success\n",
            "{\n",
            "    \"response\": {\n",
            "        \"body\": {\n",
            "            \"items\": {\n",
            "                \"item\": {\n",
            "                    \"ed\": \"방한외래관광객\",\n",
            "                    \"edCd\": \"E\",\n",
            "                    \"natCd\": 275,\n",
            "                    \"natKorNm\": \"미  국\",\n",
            "                    \"num\": 12944,\n",
            "                    \"rnum\": 1,\n",
            "                    \"ym\": 202104\n",
            "                }\n",
            "            },\n",
            "            \"numOfRows\": 10,\n",
            "            \"pageNo\": 1,\n",
            "            \"totalCount\": 1\n",
            "        },\n",
            "        \"header\": {\n",
            "            \"resultCode\": \"0000\",\n",
            "            \"resultMsg\": \"OK\"\n",
            "        }\n",
            "    }\n",
            "}\n",
            "[ 미국_202104 : 12944 ]\n",
            "----------------------------------------------------------------------\n",
            "[2022-05-22 13:34:34.565345] Url Request Success\n",
            "{\n",
            "    \"response\": {\n",
            "        \"body\": {\n",
            "            \"items\": {\n",
            "                \"item\": {\n",
            "                    \"ed\": \"방한외래관광객\",\n",
            "                    \"edCd\": \"E\",\n",
            "                    \"natCd\": 275,\n",
            "                    \"natKorNm\": \"미  국\",\n",
            "                    \"num\": 17278,\n",
            "                    \"rnum\": 1,\n",
            "                    \"ym\": 202105\n",
            "                }\n",
            "            },\n",
            "            \"numOfRows\": 10,\n",
            "            \"pageNo\": 1,\n",
            "            \"totalCount\": 1\n",
            "        },\n",
            "        \"header\": {\n",
            "            \"resultCode\": \"0000\",\n",
            "            \"resultMsg\": \"OK\"\n",
            "        }\n",
            "    }\n",
            "}\n",
            "[ 미국_202105 : 17278 ]\n",
            "----------------------------------------------------------------------\n",
            "[2022-05-22 13:34:34.713767] Url Request Success\n",
            "{\n",
            "    \"response\": {\n",
            "        \"body\": {\n",
            "            \"items\": {\n",
            "                \"item\": {\n",
            "                    \"ed\": \"방한외래관광객\",\n",
            "                    \"edCd\": \"E\",\n",
            "                    \"natCd\": 275,\n",
            "                    \"natKorNm\": \"미  국\",\n",
            "                    \"num\": 18159,\n",
            "                    \"rnum\": 1,\n",
            "                    \"ym\": 202106\n",
            "                }\n",
            "            },\n",
            "            \"numOfRows\": 10,\n",
            "            \"pageNo\": 1,\n",
            "            \"totalCount\": 1\n",
            "        },\n",
            "        \"header\": {\n",
            "            \"resultCode\": \"0000\",\n",
            "            \"resultMsg\": \"OK\"\n",
            "        }\n",
            "    }\n",
            "}\n",
            "[ 미국_202106 : 18159 ]\n",
            "----------------------------------------------------------------------\n",
            "[2022-05-22 13:34:34.866641] Url Request Success\n",
            "{\n",
            "    \"response\": {\n",
            "        \"body\": {\n",
            "            \"items\": {\n",
            "                \"item\": {\n",
            "                    \"ed\": \"방한외래관광객\",\n",
            "                    \"edCd\": \"E\",\n",
            "                    \"natCd\": 275,\n",
            "                    \"natKorNm\": \"미  국\",\n",
            "                    \"num\": 21775,\n",
            "                    \"rnum\": 1,\n",
            "                    \"ym\": 202107\n",
            "                }\n",
            "            },\n",
            "            \"numOfRows\": 10,\n",
            "            \"pageNo\": 1,\n",
            "            \"totalCount\": 1\n",
            "        },\n",
            "        \"header\": {\n",
            "            \"resultCode\": \"0000\",\n",
            "            \"resultMsg\": \"OK\"\n",
            "        }\n",
            "    }\n",
            "}\n",
            "[ 미국_202107 : 21775 ]\n",
            "----------------------------------------------------------------------\n",
            "[2022-05-22 13:34:35.020435] Url Request Success\n",
            "{\n",
            "    \"response\": {\n",
            "        \"body\": {\n",
            "            \"items\": {\n",
            "                \"item\": {\n",
            "                    \"ed\": \"방한외래관광객\",\n",
            "                    \"edCd\": \"E\",\n",
            "                    \"natCd\": 275,\n",
            "                    \"natKorNm\": \"미  국\",\n",
            "                    \"num\": 20561,\n",
            "                    \"rnum\": 1,\n",
            "                    \"ym\": 202108\n",
            "                }\n",
            "            },\n",
            "            \"numOfRows\": 10,\n",
            "            \"pageNo\": 1,\n",
            "            \"totalCount\": 1\n",
            "        },\n",
            "        \"header\": {\n",
            "            \"resultCode\": \"0000\",\n",
            "            \"resultMsg\": \"OK\"\n",
            "        }\n",
            "    }\n",
            "}\n",
            "[ 미국_202108 : 20561 ]\n",
            "----------------------------------------------------------------------\n",
            "[2022-05-22 13:34:35.173473] Url Request Success\n",
            "{\n",
            "    \"response\": {\n",
            "        \"body\": {\n",
            "            \"items\": {\n",
            "                \"item\": {\n",
            "                    \"ed\": \"방한외래관광객\",\n",
            "                    \"edCd\": \"E\",\n",
            "                    \"natCd\": 275,\n",
            "                    \"natKorNm\": \"미  국\",\n",
            "                    \"num\": 19227,\n",
            "                    \"rnum\": 1,\n",
            "                    \"ym\": 202109\n",
            "                }\n",
            "            },\n",
            "            \"numOfRows\": 10,\n",
            "            \"pageNo\": 1,\n",
            "            \"totalCount\": 1\n",
            "        },\n",
            "        \"header\": {\n",
            "            \"resultCode\": \"0000\",\n",
            "            \"resultMsg\": \"OK\"\n",
            "        }\n",
            "    }\n",
            "}\n",
            "[ 미국_202109 : 19227 ]\n",
            "----------------------------------------------------------------------\n",
            "[2022-05-22 13:34:35.325967] Url Request Success\n",
            "{\n",
            "    \"response\": {\n",
            "        \"body\": {\n",
            "            \"items\": {\n",
            "                \"item\": {\n",
            "                    \"ed\": \"방한외래관광객\",\n",
            "                    \"edCd\": \"E\",\n",
            "                    \"natCd\": 275,\n",
            "                    \"natKorNm\": \"미  국\",\n",
            "                    \"num\": 21607,\n",
            "                    \"rnum\": 1,\n",
            "                    \"ym\": 202110\n",
            "                }\n",
            "            },\n",
            "            \"numOfRows\": 10,\n",
            "            \"pageNo\": 1,\n",
            "            \"totalCount\": 1\n",
            "        },\n",
            "        \"header\": {\n",
            "            \"resultCode\": \"0000\",\n",
            "            \"resultMsg\": \"OK\"\n",
            "        }\n",
            "    }\n",
            "}\n",
            "[ 미국_202110 : 21607 ]\n",
            "----------------------------------------------------------------------\n",
            "[2022-05-22 13:34:35.476261] Url Request Success\n",
            "{\n",
            "    \"response\": {\n",
            "        \"body\": {\n",
            "            \"items\": {\n",
            "                \"item\": {\n",
            "                    \"ed\": \"방한외래관광객\",\n",
            "                    \"edCd\": \"E\",\n",
            "                    \"natCd\": 275,\n",
            "                    \"natKorNm\": \"미  국\",\n",
            "                    \"num\": 20123,\n",
            "                    \"rnum\": 1,\n",
            "                    \"ym\": 202111\n",
            "                }\n",
            "            },\n",
            "            \"numOfRows\": 10,\n",
            "            \"pageNo\": 1,\n",
            "            \"totalCount\": 1\n",
            "        },\n",
            "        \"header\": {\n",
            "            \"resultCode\": \"0000\",\n",
            "            \"resultMsg\": \"OK\"\n",
            "        }\n",
            "    }\n",
            "}\n",
            "[ 미국_202111 : 20123 ]\n",
            "----------------------------------------------------------------------\n",
            "[2022-05-22 13:34:35.628590] Url Request Success\n",
            "{\n",
            "    \"response\": {\n",
            "        \"body\": {\n",
            "            \"items\": {\n",
            "                \"item\": {\n",
            "                    \"ed\": \"방한외래관광객\",\n",
            "                    \"edCd\": \"E\",\n",
            "                    \"natCd\": 275,\n",
            "                    \"natKorNm\": \"미  국\",\n",
            "                    \"num\": 16805,\n",
            "                    \"rnum\": 1,\n",
            "                    \"ym\": 202112\n",
            "                }\n",
            "            },\n",
            "            \"numOfRows\": 10,\n",
            "            \"pageNo\": 1,\n",
            "            \"totalCount\": 1\n",
            "        },\n",
            "        \"header\": {\n",
            "            \"resultCode\": \"0000\",\n",
            "            \"resultMsg\": \"OK\"\n",
            "        }\n",
            "    }\n",
            "}\n",
            "[ 미국_202112 : 16805 ]\n",
            "----------------------------------------------------------------------\n"
          ]
        }
      ],
      "source": [
        "import os\n",
        "import sys\n",
        "import urllib.request\n",
        "import datetime\n",
        "import time\n",
        "import json\n",
        "import pandas as pd\n",
        "\n",
        "ServiceKey=\"F%2BtgdbNOVzV5OtqJjdwNNZRRlVfwF6vxOkdJ4EZJ7TYF1PawSea3PHrEo0JGfszlUuwUAkc%2BnKEXrp4uFGiBiA%3D%3D\"\n",
        "\n",
        "#[CODE 1]\n",
        "def getRequestUrl(url):    \n",
        "    req = urllib.request.Request(url)    \n",
        "    try: \n",
        "        response = urllib.request.urlopen(req)\n",
        "        if response.getcode() == 200:\n",
        "            print (\"[%s] Url Request Success\" % datetime.datetime.now())\n",
        "            return response.read().decode('utf-8')\n",
        "    except Exception as e:\n",
        "        print(e)\n",
        "        print(\"[%s] Error for URL : %s\" % (datetime.datetime.now(), url))\n",
        "        return None\n",
        "\n",
        "\n",
        "#[CODE 2]\n",
        "def getTourismStatsItem(yyyymm, national_code, ed_cd):    \n",
        "    service_url = \"http://openapi.tour.go.kr/openapi/service/EdrcntTourismStatsService/getEdrcntTourismStatsList\"\n",
        "    parameters = \"?_type=json&serviceKey=\" + ServiceKey   #인증키\n",
        "    parameters += \"&YM=\" + yyyymm\n",
        "    parameters += \"&NAT_CD=\" + national_code\n",
        "    parameters += \"&ED_CD=\" + ed_cd\n",
        "    url = service_url + parameters\n",
        "    \n",
        "    retData = getRequestUrl(url)   #[CODE 1]\n",
        "    \n",
        "    if (retData == None):\n",
        "        return None\n",
        "    else:\n",
        "         return json.loads(retData)\n",
        "\n",
        "#[CODE 3]\n",
        "def getTourismStatsService(nat_cd, ed_cd, nStartYear, nEndYear):\n",
        "    jsonResult = []\n",
        "    result = []\n",
        "    natName=''\n",
        "    dataEND = \"{0}{1:0>2}\".format(str(nEndYear), str(12)) #데이터 끝 초기화\n",
        "    isDataEnd = 0 #데이터 끝 확인용 flag 초기화    \n",
        "    \n",
        "    for year in range(nStartYear, nEndYear+1):        \n",
        "        for month in range(1, 13):\n",
        "            if(isDataEnd == 1): break #데이터 끝 flag 설정되어있으면 작업 중지.\n",
        "            yyyymm = \"{0}{1:0>2}\".format(str(year), str(month))            \n",
        "            jsonData = getTourismStatsItem(yyyymm, nat_cd, ed_cd) #[CODE 2]\n",
        "            \n",
        "            if (jsonData['response']['header']['resultMsg'] == 'OK'):               \n",
        "                # 입력된 범위까지 수집하지 않았지만, 더이상 제공되는 데이터가 없는 마지막 항목인 경우 -------------------\n",
        "                if jsonData['response']['body']['items'] == '': \n",
        "                    isDataEnd = 1 #데이터 끝 flag 설정\n",
        "                    dataEND = \"{0}{1:0>2}\".format(str(year), str(month-1))\n",
        "                    print(\"데이터 없음.... \\n 제공되는 통계 데이터는 %s년 %s월까지입니다.\" %(str(year), str(month-1)))                    \n",
        "                    break                \n",
        "                #jsonData를 출력하여 확인......................................................\n",
        "                print (json.dumps(jsonData, indent=4,sort_keys=True, ensure_ascii=False))          \n",
        "                natName = jsonData['response']['body']['items']['item']['natKorNm']\n",
        "                natName = natName.replace(' ', '')\n",
        "                num = jsonData['response']['body']['items']['item']['num']\n",
        "                ed = jsonData['response']['body']['items']['item']['ed']\n",
        "                print('[ %s_%s : %s ]' %(natName, yyyymm, num))\n",
        "                print('----------------------------------------------------------------------')                \n",
        "                jsonResult.append({'nat_name': natName, 'nat_cd': nat_cd,'yyyymm': yyyymm, 'visit_cnt': num})\n",
        "                result.append([natName, nat_cd, yyyymm, num])\n",
        "                \n",
        "    return (jsonResult, result, natName, ed, dataEND)\n",
        "\n",
        "#[CODE 0]\n",
        "def main():\n",
        "    jsonResult = []\n",
        "    result = []\n",
        "    natName=''\n",
        "    print(\"<< 국내 입국한 외국인의 통계 데이터를 수집합니다. >>\")\n",
        "    nat_cd = input('국가 코드를 입력하세요(중국: 112 / 일본: 130 / 미국: 275) : ')\n",
        "    nStartYear =int(input('데이터를 몇 년부터 수집할까요? : '))\n",
        "    nEndYear = int(input('데이터를 몇 년까지 수집할까요? : '))\n",
        "    ed_cd = \"E\"     #E : 방한외래관광객, D : 해외 출국\n",
        "    \n",
        "    jsonResult, result, natName, ed, dataEND =getTourismStatsService(nat_cd, ed_cd, nStartYear, nEndYear) #[CODE 3]\n",
        "\n",
        "    if (natName=='') : #URL 요청은 성공하였지만, 데이터 제공이 안된 경우\n",
        "        print('데이터가 전달되지 않았습니다. 공공데이터포털의 서비스 상태를 확인하기 바랍니다.')\n",
        "    else:\n",
        "        #파일저장 1 : json 파일       \n",
        "        with open('./%s_%s_%d_%s.json' % (natName, ed, nStartYear, dataEND), 'w', encoding='utf8') as outfile:\n",
        "            jsonFile  = json.dumps(jsonResult, indent=4, sort_keys=True, ensure_ascii=False)\n",
        "            outfile.write(jsonFile)\n",
        "        #파일저장 2 : csv 파일   \n",
        "        columns = [\"입국자국가\", \"국가코드\", \"입국연월\", \"입국자 수\"]\n",
        "        result_df = pd.DataFrame(result, columns = columns)\n",
        "        result_df.to_csv('./%s_%s_%d_%s.csv' % (natName, ed, nStartYear, dataEND),index=False, encoding='utf8')\n",
        "    \n",
        "if __name__ == '__main__':\n",
        "    main()"
      ]
    },
    {
      "cell_type": "markdown",
      "source": [
        "## 라이브러리를 이용한 데이터 수집\n",
        "\n",
        "BeautifulSoup 정적 웹 페이지를 크롤링\n",
        "\n",
        "Selenium 동적 웹 페이지를 크롤링 "
      ],
      "metadata": {
        "id": "DRpWn96q_SZV"
      }
    },
    {
      "cell_type": "code",
      "source": [
        "from bs4 import BeautifulSoup\n",
        "\n",
        "html = '<h1 id=\"title\">한빛출판네트워크</h1><div class=\"top\"><ulclass=\"menu\"><li><a href=http://www.hanbit.co.kr/member/login.htmlclass=\"login\">로그인 </a></li></ul><ul class=\"brand\"><li><a href=\"http://www. hanbit.co.kr/media/>한빛미디어<li><a href=\"http://www.hanbit.co.kr/academy/\">한빛아카데미</a></li></ul></div>'\n",
        "soup = BeautifulSoup(html,'html.parser')\n",
        "\n",
        "print(soup.prettify())"
      ],
      "metadata": {
        "colab": {
          "base_uri": "https://localhost:8080/"
        },
        "id": "KLXVPkst87Vt",
        "outputId": "8dbfd7e8-b73e-4348-e524-bdfb05303186"
      },
      "execution_count": 9,
      "outputs": [
        {
          "output_type": "stream",
          "name": "stdout",
          "text": [
            "<h1 id=\"title\">\n",
            " 한빛출판네트워크\n",
            "</h1>\n",
            "<div class=\"top\">\n",
            " <ulclass=\"menu\">\n",
            "  <li>\n",
            "   <a href='http://www.hanbit.co.kr/member/login.htmlclass=\"login\"'>\n",
            "    로그인\n",
            "   </a>\n",
            "  </li>\n",
            " </ulclass=\"menu\">\n",
            "</div>\n",
            "<ul class=\"brand\">\n",
            " <li>\n",
            "  <a \"=\"\" academy=\"\" href=\"http://www. hanbit.co.kr/media/&gt;한빛미디어&lt;li&gt;&lt;a href=\" http:=\"\" www.hanbit.co.kr=\"\">\n",
            "   한빛아카데미\n",
            "  </a>\n",
            " </li>\n",
            "</ul>\n"
          ]
        }
      ]
    },
    {
      "cell_type": "code",
      "source": [
        "soup.h1"
      ],
      "metadata": {
        "colab": {
          "base_uri": "https://localhost:8080/"
        },
        "id": "C1-m2zl-Mbjn",
        "outputId": "91b963c6-3ce6-464f-a93d-781e5570a9b0"
      },
      "execution_count": 10,
      "outputs": [
        {
          "output_type": "execute_result",
          "data": {
            "text/plain": [
              "<h1 id=\"title\">한빛출판네트워크</h1>"
            ]
          },
          "metadata": {},
          "execution_count": 10
        }
      ]
    },
    {
      "cell_type": "code",
      "source": [
        "tag_div = soup.div\n",
        "tag_div"
      ],
      "metadata": {
        "colab": {
          "base_uri": "https://localhost:8080/"
        },
        "id": "rpUrjC0bOeLh",
        "outputId": "813471d6-bd34-40b3-9d27-e0f98da1f3c4"
      },
      "execution_count": 12,
      "outputs": [
        {
          "output_type": "execute_result",
          "data": {
            "text/plain": [
              "<div class=\"top\"><ulclass=\"menu\"><li><a href='http://www.hanbit.co.kr/member/login.htmlclass=\"login\"'>로그인 </a></li></ulclass=\"menu\"></div>"
            ]
          },
          "metadata": {},
          "execution_count": 12
        }
      ]
    },
    {
      "cell_type": "code",
      "source": [
        "tag_ul = soup.ul\n",
        "tag_ul"
      ],
      "metadata": {
        "colab": {
          "base_uri": "https://localhost:8080/"
        },
        "id": "66XOcz07Ojd_",
        "outputId": "a4c8f782-a56d-48af-e135-ac88ae223828"
      },
      "execution_count": 13,
      "outputs": [
        {
          "output_type": "execute_result",
          "data": {
            "text/plain": [
              "<ul class=\"brand\"><li><a \"=\"\" academy=\"\" href=\"http://www. hanbit.co.kr/media/&gt;한빛미디어&lt;li&gt;&lt;a href=\" http:=\"\" www.hanbit.co.kr=\"\">한빛아카데미</a></li></ul>"
            ]
          },
          "metadata": {},
          "execution_count": 13
        }
      ]
    },
    {
      "cell_type": "code",
      "source": [
        "#find_all 지정된 태그를 모두 파싱\n",
        "\n",
        "tag_ul_all = soup.find_all('ul')\n",
        "tag_ul_all"
      ],
      "metadata": {
        "colab": {
          "base_uri": "https://localhost:8080/"
        },
        "id": "0oRAETpDOwD9",
        "outputId": "e6f2f180-5ba3-451b-bc77-bee3ba3982b8"
      },
      "execution_count": 14,
      "outputs": [
        {
          "output_type": "execute_result",
          "data": {
            "text/plain": [
              "[<ul class=\"brand\"><li><a \"=\"\" academy=\"\" href=\"http://www. hanbit.co.kr/media/&gt;한빛미디어&lt;li&gt;&lt;a href=\" http:=\"\" www.hanbit.co.kr=\"\">한빛아카데미</a></li></ul>]"
            ]
          },
          "metadata": {},
          "execution_count": 14
        }
      ]
    },
    {
      "cell_type": "code",
      "source": [
        "tag_a_all = soup.find_all('a')\n",
        "tag_a_all"
      ],
      "metadata": {
        "colab": {
          "base_uri": "https://localhost:8080/"
        },
        "id": "TVSosPTqPDGn",
        "outputId": "a9866715-3ba2-4702-e4cb-dde6be698061"
      },
      "execution_count": 15,
      "outputs": [
        {
          "output_type": "execute_result",
          "data": {
            "text/plain": [
              "[<a href='http://www.hanbit.co.kr/member/login.htmlclass=\"login\"'>로그인 </a>,\n",
              " <a \"=\"\" academy=\"\" href=\"http://www. hanbit.co.kr/media/&gt;한빛미디어&lt;li&gt;&lt;a href=\" http:=\"\" www.hanbit.co.kr=\"\">한빛아카데미</a>]"
            ]
          },
          "metadata": {},
          "execution_count": 15
        }
      ]
    },
    {
      "cell_type": "code",
      "source": [
        "#attrs : 속성 이름과 속성값으로 딕셔너리 구성\n",
        "\n",
        "tag_div.attrs"
      ],
      "metadata": {
        "colab": {
          "base_uri": "https://localhost:8080/"
        },
        "id": "qxue-ZnaPRPt",
        "outputId": "7f91f351-65d8-45e9-c19b-aac65aeb7def"
      },
      "execution_count": 18,
      "outputs": [
        {
          "output_type": "execute_result",
          "data": {
            "text/plain": [
              "{'class': ['top']}"
            ]
          },
          "metadata": {},
          "execution_count": 18
        }
      ]
    },
    {
      "cell_type": "code",
      "source": [
        "tag_div['class']"
      ],
      "metadata": {
        "colab": {
          "base_uri": "https://localhost:8080/"
        },
        "id": "884KSuIuPcmo",
        "outputId": "842bd96c-5735-401d-bf19-5572495b5063"
      },
      "execution_count": 20,
      "outputs": [
        {
          "output_type": "execute_result",
          "data": {
            "text/plain": [
              "['top']"
            ]
          },
          "metadata": {},
          "execution_count": 20
        }
      ]
    },
    {
      "cell_type": "code",
      "source": [
        "# find(): 속성을 이용하여 특정 태그 파싱\n",
        "tag_ul_2 = soup.find('ul', attrs = {'class':'brand'})\n",
        "tag_ul_2"
      ],
      "metadata": {
        "colab": {
          "base_uri": "https://localhost:8080/"
        },
        "id": "MN258crxPnWy",
        "outputId": "d50ad837-a72a-414f-88ed-52b0eb3d455c"
      },
      "execution_count": 21,
      "outputs": [
        {
          "output_type": "execute_result",
          "data": {
            "text/plain": [
              "<ul class=\"brand\"><li><a \"=\"\" academy=\"\" href=\"http://www. hanbit.co.kr/media/&gt;한빛미디어&lt;li&gt;&lt;a href=\" http:=\"\" www.hanbit.co.kr=\"\">한빛아카데미</a></li></ul>"
            ]
          },
          "metadata": {},
          "execution_count": 21
        }
      ]
    },
    {
      "cell_type": "code",
      "source": [
        "title = soup.find(id = 'title')\n",
        "title"
      ],
      "metadata": {
        "colab": {
          "base_uri": "https://localhost:8080/"
        },
        "id": "ZVTJjfhqP2u1",
        "outputId": "14d9aa45-7394-4531-d584-d3dd4d0d338a"
      },
      "execution_count": 22,
      "outputs": [
        {
          "output_type": "execute_result",
          "data": {
            "text/plain": [
              "<h1 id=\"title\">한빛출판네트워크</h1>"
            ]
          },
          "metadata": {},
          "execution_count": 22
        }
      ]
    },
    {
      "cell_type": "code",
      "source": [
        "title.string"
      ],
      "metadata": {
        "colab": {
          "base_uri": "https://localhost:8080/",
          "height": 35
        },
        "id": "3w2oEsdBP6jU",
        "outputId": "30a801dc-3eca-4f81-ddcc-248eec36a772"
      },
      "execution_count": 23,
      "outputs": [
        {
          "output_type": "execute_result",
          "data": {
            "text/plain": [
              "'한빛출판네트워크'"
            ],
            "application/vnd.google.colaboratory.intrinsic+json": {
              "type": "string"
            }
          },
          "metadata": {},
          "execution_count": 23
        }
      ]
    },
    {
      "cell_type": "code",
      "source": [
        "#select(): 지정한 태그를 모두 파싱하여 리스트 구성 \n",
        "# 태그#id 속성값/ 태그.class 속성값\n",
        "\n",
        "li_list = soup.select('div>ul.brand>li')\n",
        "li_list"
      ],
      "metadata": {
        "colab": {
          "base_uri": "https://localhost:8080/"
        },
        "id": "Ke4ilAVpP8it",
        "outputId": "e6e47e7c-a6c8-4e74-dbde-cf421aa3fc8f"
      },
      "execution_count": 27,
      "outputs": [
        {
          "output_type": "execute_result",
          "data": {
            "text/plain": [
              "[]"
            ]
          },
          "metadata": {},
          "execution_count": 27
        }
      ]
    },
    {
      "cell_type": "code",
      "source": [
        ""
      ],
      "metadata": {
        "id": "d6fBLfAnQg8S"
      },
      "execution_count": null,
      "outputs": []
    }
  ]
}